{
 "cells": [
  {
   "cell_type": "code",
   "execution_count": 8,
   "id": "35993867",
   "metadata": {},
   "outputs": [
    {
     "name": "stdout",
     "output_type": "stream",
     "text": [
      "JSON Syntax Error: Expecting property name enclosed in double quotes: line 2 column 1 (char 2)\n",
      "Error location: Line 2, Column 1\n",
      "Please check for:\n",
      "- Missing commas between items\n",
      "- Unclosed brackets or braces\n",
      "- Trailing commas in arrays/objects\n",
      "- Special characters that need escaping\n",
      "Failed to load JSON file: Expecting property name enclosed in double quotes: line 2 column 1 (char 2)\n"
     ]
    },
    {
     "ename": "NameError",
     "evalue": "name 'data' is not defined",
     "output_type": "error",
     "traceback": [
      "\u001b[1;31m---------------------------------------------------------------------------\u001b[0m",
      "\u001b[1;31mNameError\u001b[0m                                 Traceback (most recent call last)",
      "Cell \u001b[1;32mIn[8], line 42\u001b[0m\n\u001b[0;32m     38\u001b[0m     exit(\u001b[38;5;241m1\u001b[39m)\n\u001b[0;32m     40\u001b[0m processed_data \u001b[38;5;241m=\u001b[39m []\n\u001b[1;32m---> 42\u001b[0m \u001b[38;5;28;01mfor\u001b[39;00m idx, entry \u001b[38;5;129;01min\u001b[39;00m \u001b[38;5;28menumerate\u001b[39m(\u001b[43mdata\u001b[49m, \u001b[38;5;241m1\u001b[39m):\n\u001b[0;32m     43\u001b[0m     \u001b[38;5;28;01mtry\u001b[39;00m:\n\u001b[0;32m     44\u001b[0m         \u001b[38;5;28;01mif\u001b[39;00m \u001b[38;5;28many\u001b[39m([\n\u001b[0;32m     45\u001b[0m             \u001b[38;5;124m\"\u001b[39m\u001b[38;5;124mERROR 404\u001b[39m\u001b[38;5;124m\"\u001b[39m \u001b[38;5;129;01min\u001b[39;00m entry[\u001b[38;5;124m\"\u001b[39m\u001b[38;5;124minstruction\u001b[39m\u001b[38;5;124m\"\u001b[39m],\n\u001b[0;32m     46\u001b[0m             \u001b[38;5;124m\"\u001b[39m\u001b[38;5;124mERROR 404\u001b[39m\u001b[38;5;124m\"\u001b[39m \u001b[38;5;129;01min\u001b[39;00m entry[\u001b[38;5;124m\"\u001b[39m\u001b[38;5;124moutput\u001b[39m\u001b[38;5;124m\"\u001b[39m],\n\u001b[0;32m     47\u001b[0m             \u001b[38;5;124m\"\u001b[39m\u001b[38;5;124mNo question content available\u001b[39m\u001b[38;5;124m\"\u001b[39m \u001b[38;5;129;01min\u001b[39;00m entry[\u001b[38;5;124m\"\u001b[39m\u001b[38;5;124minstruction\u001b[39m\u001b[38;5;124m\"\u001b[39m],\n\u001b[0;32m     48\u001b[0m             entry[\u001b[38;5;124m\"\u001b[39m\u001b[38;5;124moutput\u001b[39m\u001b[38;5;124m\"\u001b[39m]\u001b[38;5;241m.\u001b[39mstrip() \u001b[38;5;129;01min\u001b[39;00m {\u001b[38;5;124m\"\u001b[39m\u001b[38;5;124mA:\u001b[39m\u001b[38;5;124m\"\u001b[39m, \u001b[38;5;124m\"\u001b[39m\u001b[38;5;124mA: \u001b[39m\u001b[38;5;124m\"\u001b[39m}\n\u001b[0;32m     49\u001b[0m         ]):\n",
      "\u001b[1;31mNameError\u001b[0m: name 'data' is not defined"
     ]
    }
   ],
   "source": [
    "import json\n",
    "import pandas as pd\n",
    "import re\n",
    "import unicodedata\n",
    "from json.decoder import JSONDecodeError\n",
    "from sklearn.model_selection import train_test_split\n",
    "\n",
    "def clean_text(text):\n",
    "    \"\"\"Clean text from ambiguous characters and normalize formatting\"\"\"\n",
    "    text = re.sub(r\"Was thisanswerhelpful\\?YesNo[+-]?\\d*\", \"\", text)\n",
    "    text = re.sub(r\"\\b(Monday|Tuesday|Wednesday|Thursday|Friday|Saturday|Sunday).*?(AM|PM)\\b\", \"\", text)\n",
    "    text = unicodedata.normalize('NFKC', text)\n",
    "    text = re.sub(r'[\\x00-\\x1F\\x7F-\\x9F\\u200B-\\u200F\\u2028-\\u202E]', '', text)\n",
    "    text = re.sub(r'[–—•®©™“”´‘’`]', ' ', text)\n",
    "    text = re.sub(r'\\s+', ' ', text).strip()\n",
    "    return text\n",
    "\n",
    "def load_json_with_validation(file_path):\n",
    "    \"\"\"Load JSON file with validation and error reporting\"\"\"\n",
    "    try:\n",
    "        with open(file_path, 'r', encoding='utf-8') as f:\n",
    "            return json.load(f)\n",
    "    except JSONDecodeError as e:\n",
    "        print(f\"JSON Syntax Error: {e}\")\n",
    "        print(f\"Error location: Line {e.lineno}, Column {e.colno}\")\n",
    "        print(\"Please check for:\")\n",
    "        print(\"- Missing commas between items\")\n",
    "        print(\"- Unclosed brackets or braces\")\n",
    "        print(\"- Trailing commas in arrays/objects\")\n",
    "        print(\"- Special characters that need escaping\")\n",
    "        raise\n",
    "\n",
    "# Load data with validation\n",
    "try:\n",
    "    data = load_json_with_validation(\"car_questions_live.json\")\n",
    "except Exception as e:\n",
    "    print(f\"Failed to load JSON file: {str(e)}\")\n",
    "    exit(1)\n",
    "\n",
    "processed_data = []\n",
    "\n",
    "for idx, entry in enumerate(data, 1):\n",
    "    try:\n",
    "        if any([\n",
    "            \"ERROR 404\" in entry[\"instruction\"],\n",
    "            \"ERROR 404\" in entry[\"output\"],\n",
    "            \"No question content available\" in entry[\"instruction\"],\n",
    "            entry[\"output\"].strip() in {\"A:\", \"A: \"}\n",
    "        ]):\n",
    "            continue\n",
    "\n",
    "        instruction = clean_text(entry[\"instruction\"].split(\"\\n\")[0].replace(\"Q: \", \"\"))\n",
    "        output = clean_text(entry[\"output\"].replace(\"A: \", \"\"))\n",
    "        \n",
    "        if not instruction or not output:\n",
    "            continue\n",
    "            \n",
    "        prompt = f\"{instruction}\\n{entry['input']}\" if entry[\"input\"].strip() else instruction\n",
    "        \n",
    "        processed_data.append({\n",
    "            \"prompt\": clean_text(prompt),\n",
    "            \"response\": output\n",
    "        })\n",
    "        \n",
    "    except KeyError as e:\n",
    "        print(f\"Missing key {str(e)} in entry {idx}\")\n",
    "    except Exception as e:\n",
    "        print(f\"Error processing entry {idx}: {str(e)}\")\n",
    "\n",
    "# Create DataFrame and split\n",
    "df = pd.DataFrame(processed_data)\n",
    "train_df, val_df = train_test_split(df, test_size=0.1, random_state=42)\n",
    "\n",
    "# Save results\n",
    "train_df.to_json(\"car_repair_train.jsonl\", orient=\"records\", lines=True)\n",
    "val_df.to_json(\"car_repair_val.jsonl\", orient=\"records\", lines=True)\n",
    "\n",
    "print(f\"Successfully processed {len(df)} entries\")"
   ]
  }
 ],
 "metadata": {
  "kernelspec": {
   "display_name": "Python 3",
   "language": "python",
   "name": "python3"
  },
  "language_info": {
   "codemirror_mode": {
    "name": "ipython",
    "version": 3
   },
   "file_extension": ".py",
   "mimetype": "text/x-python",
   "name": "python",
   "nbconvert_exporter": "python",
   "pygments_lexer": "ipython3",
   "version": "3.10.6"
  }
 },
 "nbformat": 4,
 "nbformat_minor": 5
}
